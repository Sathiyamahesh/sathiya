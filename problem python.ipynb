{
 "cells": [
  {
   "cell_type": "code",
   "execution_count": 3,
   "id": "53ad81cb",
   "metadata": {},
   "outputs": [
    {
     "name": "stdout",
     "output_type": "stream",
     "text": [
      "type length of perpendicular and press return:3\n"
     ]
    }
   ],
   "source": [
    "num1=int(input(\"type length of perpendicular and press return:\"))"
   ]
  },
  {
   "cell_type": "code",
   "execution_count": 2,
   "id": "3085f81b",
   "metadata": {},
   "outputs": [
    {
     "name": "stdout",
     "output_type": "stream",
     "text": [
      "type length of base  and press return:4\n"
     ]
    }
   ],
   "source": [
    "num2=int(input(\"type length of base  and press return:\"))"
   ]
  },
  {
   "cell_type": "code",
   "execution_count": 5,
   "id": "04a52130",
   "metadata": {},
   "outputs": [
    {
     "name": "stdout",
     "output_type": "stream",
     "text": [
      "type length of hypotneuse and press return:5\n"
     ]
    }
   ],
   "source": [
    "num3=int(input (\"type length of hypotneuse and press return:\"))"
   ]
  },
  {
   "cell_type": "code",
   "execution_count": 6,
   "id": "c112ca2f",
   "metadata": {},
   "outputs": [],
   "source": [
    "cal=(num1**2)+ (num2**2)"
   ]
  },
  {
   "cell_type": "code",
   "execution_count": 7,
   "id": "054b347c",
   "metadata": {},
   "outputs": [
    {
     "name": "stdout",
     "output_type": "stream",
     "text": [
      "ans 25\n"
     ]
    }
   ],
   "source": [
    "print(\"ans\",cal)"
   ]
  },
  {
   "cell_type": "code",
   "execution_count": 8,
   "id": "dd980e76",
   "metadata": {},
   "outputs": [],
   "source": [
    "c=num3**2"
   ]
  },
  {
   "cell_type": "code",
   "execution_count": 9,
   "id": "6da74ab2",
   "metadata": {},
   "outputs": [
    {
     "name": "stdout",
     "output_type": "stream",
     "text": [
      "ans1 25\n"
     ]
    }
   ],
   "source": [
    "print(\"ans1\",c)"
   ]
  },
  {
   "cell_type": "code",
   "execution_count": 10,
   "id": "1d3ced9d",
   "metadata": {},
   "outputs": [
    {
     "name": "stdout",
     "output_type": "stream",
     "text": [
      "it is pythogram tripple\n"
     ]
    }
   ],
   "source": [
    "if cal==c:\n",
    "    print(\"it is pythogram tripple\")\n",
    "else :\n",
    "    print(\"it is not pythogram tripple\")"
   ]
  },
  {
   "cell_type": "code",
   "execution_count": null,
   "id": "fef4b697",
   "metadata": {},
   "outputs": [],
   "source": []
  }
 ],
 "metadata": {
  "kernelspec": {
   "display_name": "Python 3 (ipykernel)",
   "language": "python",
   "name": "python3"
  },
  "language_info": {
   "codemirror_mode": {
    "name": "ipython",
    "version": 3
   },
   "file_extension": ".py",
   "mimetype": "text/x-python",
   "name": "python",
   "nbconvert_exporter": "python",
   "pygments_lexer": "ipython3",
   "version": "3.10.9"
  }
 },
 "nbformat": 4,
 "nbformat_minor": 5
}
