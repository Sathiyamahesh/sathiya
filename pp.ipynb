{
 "cells": [
  {
   "cell_type": "code",
   "execution_count": 3,
   "id": "6686b7e8",
   "metadata": {},
   "outputs": [
    {
     "name": "stdout",
     "output_type": "stream",
     "text": [
      "type length of perpendicular and press return:3\n"
     ]
    }
   ],
   "source": [
    "num1=int(input(\"type length of perpendicular and press return:\"))"
   ]
  },
  {
   "cell_type": "code",
   "execution_count": 2,
   "id": "369253c5",
   "metadata": {},
   "outputs": [
    {
     "name": "stdout",
     "output_type": "stream",
     "text": [
      "type length of base  and press return:4\n"
     ]
    }
   ],
   "source": [
    "num2=int(input(\"type length of base  and press return:\"))"
   ]
  },
  {
   "cell_type": "code",
   "execution_count": 5,
   "id": "1e21e60c",
   "metadata": {},
   "outputs": [
    {
     "name": "stdout",
     "output_type": "stream",
     "text": [
      "type length of hypotneuse and press return:5\n"
     ]
    }
   ],
   "source": [
    "num3=int(input (\"type length of hypotneuse and press return:\"))"
   ]
  },
  {
   "cell_type": "code",
   "execution_count": 6,
   "id": "eec1c634",
   "metadata": {},
   "outputs": [],
   "source": [
    "cal=(num1**2)+ (num2**2)"
   ]
  },
  {
   "cell_type": "code",
   "execution_count": 7,
   "id": "a2632841",
   "metadata": {},
   "outputs": [
    {
     "name": "stdout",
     "output_type": "stream",
     "text": [
      "ans 25\n"
     ]
    }
   ],
   "source": [
    "print(\"ans\",cal)"
   ]
  },
  {
   "cell_type": "code",
   "execution_count": 8,
   "id": "719b54fb",
   "metadata": {},
   "outputs": [],
   "source": [
    "c=num3**2"
   ]
  },
  {
   "cell_type": "code",
   "execution_count": 9,
   "id": "6f52c452",
   "metadata": {},
   "outputs": [
    {
     "name": "stdout",
     "output_type": "stream",
     "text": [
      "ans1 25\n"
     ]
    }
   ],
   "source": [
    "print(\"ans1\",c)"
   ]
  },
  {
   "cell_type": "code",
   "execution_count": 10,
   "id": "97c6f916",
   "metadata": {},
   "outputs": [
    {
     "name": "stdout",
     "output_type": "stream",
     "text": [
      "it is pythogram tripple\n"
     ]
    }
   ],
   "source": [
    "if cal==c:\n",
    "    print(\"it is pythogram tripple\")\n",
    "else :\n",
    "    print(\"it is not pythogram tripple\")"
   ]
  },
  {
   "cell_type": "code",
   "execution_count": 11,
   "id": "5dbdb7c5",
   "metadata": {},
   "outputs": [
    {
     "name": "stdout",
     "output_type": "stream",
     "text": [
      "Enter a number:3\n"
     ]
    }
   ],
   "source": [
    "num=int(input(\"Enter a number:\"))"
   ]
  },
  {
   "cell_type": "code",
   "execution_count": 12,
   "id": "80753914",
   "metadata": {},
   "outputs": [],
   "source": [
    "cube=num**3"
   ]
  },
  {
   "cell_type": "code",
   "execution_count": 13,
   "id": "ca4bd5f6",
   "metadata": {},
   "outputs": [
    {
     "name": "stdout",
     "output_type": "stream",
     "text": [
      "cube is: 27\n"
     ]
    }
   ],
   "source": [
    "print(\"cube is:\",cube)"
   ]
  },
  {
   "cell_type": "code",
   "execution_count": 14,
   "id": "4b45603d",
   "metadata": {},
   "outputs": [],
   "source": []
  },
  {
   "cell_type": "code",
   "execution_count": null,
   "id": "a536dca8",
   "metadata": {},
   "outputs": [],
   "source": []
  }
 ],
 "metadata": {
  "kernelspec": {
   "display_name": "Python 3 (ipykernel)",
   "language": "python",
   "name": "python3"
  },
  "language_info": {
   "codemirror_mode": {
    "name": "ipython",
    "version": 3
   },
   "file_extension": ".py",
   "mimetype": "text/x-python",
   "name": "python",
   "nbconvert_exporter": "python",
   "pygments_lexer": "ipython3",
   "version": "3.10.9"
  }
 },
 "nbformat": 4,
 "nbformat_minor": 5
}
